{
 "cells": [
  {
   "cell_type": "markdown",
   "metadata": {},
   "source": [
    "# 월간 데이콘 5, 생체 광학 데이터 분석 AI 경진대회\n",
    "\n",
    "## Public 21st, Private 17th / 316 (Top 5.4%)\n",
    "\n",
    "- Competiton link : https://dacon.io/competitions/official/235608/overview/description/\n",
    "- Data : https://dacon.io/competitions/official/235608/data/\n",
    "- This Solution is also uploaded to Dacon Codeshare : https://dacon.io/competitions/official/235608/codeshare/1275?page=1&dtype=recent\n",
    "\n"
   ]
  },
  {
   "cell_type": "code",
   "execution_count": 1,
   "metadata": {},
   "outputs": [],
   "source": [
    "import os\n",
    "import pandas as pd\n",
    "import numpy as np\n",
    "%matplotlib inline\n",
    "import matplotlib.pyplot as plt\n",
    "import seaborn as sns\n",
    "\n",
    "import time\n",
    "import warnings ; warnings.filterwarnings('ignore')\n",
    "from tqdm import tqdm\n",
    "\n",
    "from sklearn.preprocessing import Normalizer\n",
    "from sklearn.multioutput import MultiOutputRegressor\n",
    "from scipy.stats import norm\n",
    "\n",
    "from sklearn.model_selection import cross_val_score, train_test_split, cross_val_predict\n",
    "from sklearn.metrics import mean_absolute_error\n",
    "import random\n",
    "import shap\n",
    "import optuna\n",
    "\n",
    "from lightgbm import LGBMRegressor\n",
    "from xgboost import XGBRegressor\n",
    "from catboost import CatBoostRegressor\n",
    "\n",
    "from sklearn.tree import ExtraTreeRegressor"
   ]
  },
  {
   "cell_type": "markdown",
   "metadata": {},
   "source": [
    "# Load Data"
   ]
  },
  {
   "cell_type": "code",
   "execution_count": 2,
   "metadata": {},
   "outputs": [],
   "source": [
    "train = pd.read_csv('data/train.csv', index_col='id')\n",
    "test = pd.read_csv('data/test.csv', index_col='id')\n",
    "submission = pd.read_csv('data/sample_submission.csv', index_col='id')"
   ]
  },
  {
   "cell_type": "code",
   "execution_count": 3,
   "metadata": {},
   "outputs": [],
   "source": [
    "feature_names=list(test)\n",
    "target_names=list(submission)\n",
    "\n",
    "Xtrain = train[feature_names]\n",
    "Xtest = test[feature_names]\n",
    "\n",
    "Ytrain=train[target_names]\n",
    "Ytrain1=Ytrain['hhb']\n",
    "Ytrain2=Ytrain['hbo2']\n",
    "Ytrain3=Ytrain['ca']\n",
    "Ytrain4=Ytrain['na']"
   ]
  },
  {
   "cell_type": "markdown",
   "metadata": {},
   "source": [
    "## Validation Strategy"
   ]
  },
  {
   "cell_type": "code",
   "execution_count": 4,
   "metadata": {},
   "outputs": [],
   "source": [
    "base_params = {'num_leaves': 102, 'min_data_in_leaf': 82, 'n_estimators': 1998, \n",
    "               'learning_rate': 0.1070227129787253, 'colsample_bytree': 0.6692544288719608, \n",
    "               'subsample': 0.7459504136217274, 'reg_alpha': 0.0002735563924007907, \n",
    "               'reg_lambda': 0.0029420097457405594}\n",
    "\n",
    "base_model = LGBMRegressor(n_jobs=-1, objective='l1', silent=False, subsample_freq=1, random_state=18, \n",
    "                           **base_params)\n",
    "\n",
    "multi_model = MultiOutputRegressor(base_model)"
   ]
  },
  {
   "cell_type": "markdown",
   "metadata": {},
   "source": [
    "### Cross Validation Function"
   ]
  },
  {
   "cell_type": "code",
   "execution_count": 5,
   "metadata": {},
   "outputs": [],
   "source": [
    "def model_scoring_cv(model, x, y, cv=10, verbose=False, n_jobs=None):\n",
    "    start=time.time()\n",
    "    score=-cross_val_score(model, x, y, cv=cv, scoring='neg_mean_absolute_error', verbose=verbose, \n",
    "                          n_jobs=n_jobs).mean()\n",
    "    stop=time.time()\n",
    "    print(f\"Validation Time : {round(stop-start, 3)} sec\")\n",
    "    return score"
   ]
  },
  {
   "cell_type": "markdown",
   "metadata": {},
   "source": [
    "### Adversarial Validation Function"
   ]
  },
  {
   "cell_type": "code",
   "execution_count": 6,
   "metadata": {},
   "outputs": [],
   "source": [
    "def train_test_identify(train_df, test_df, calculate_importance=True):\n",
    "    model=LGBMClassifier(importance_type='gain')\n",
    "    train_data=train_df.copy()\n",
    "    test_data=test_df.copy()\n",
    "    \n",
    "    train_data['isTrain']=1\n",
    "    test_data['isTrain']=0\n",
    "    \n",
    "    all_data=pd.concat((train_data, test_data))\n",
    "    target=all_data['isTrain']\n",
    "    all_data=all_data.drop(columns='isTrain')\n",
    "    pred=cross_val_predict(model, all_data, target, cv=10)\n",
    "    if calculate_importance == None:\n",
    "        pass\n",
    "\n",
    "    elif calculate_importance==False:\n",
    "        print(classification_report(target, pred))\n",
    "    \n",
    "    else:\n",
    "        print(classification_report(target, pred))\n",
    "        model.fit(all_data, target)\n",
    "        explainer=shap.TreeExplainer(model)\n",
    "        shap_values=explainer.shap_values(all_data)\n",
    "        shap.summary_plot(shap_values, all_data)\n",
    "    return f1_score(target, pred)"
   ]
  },
  {
   "cell_type": "markdown",
   "metadata": {},
   "source": [
    "# EDA"
   ]
  },
  {
   "cell_type": "markdown",
   "metadata": {},
   "source": [
    "## Fillna"
   ]
  },
  {
   "cell_type": "code",
   "execution_count": 7,
   "metadata": {},
   "outputs": [],
   "source": [
    "src_list=['650_src', '660_src', '670_src', '680_src', '690_src', '700_src', '710_src', '720_src', '730_src', \n",
    "          '740_src', '750_src', '760_src', '770_src', '780_src', '790_src', '800_src', '810_src', '820_src', \n",
    "          '830_src', '840_src', '850_src', '860_src', '870_src', '880_src', '890_src', '900_src', '910_src', \n",
    "          '920_src', '930_src', '940_src', '950_src', '960_src', '970_src', '980_src', '990_src']\n",
    "\n",
    "dst_list=['650_dst', '660_dst', '670_dst', '680_dst', '690_dst', '700_dst', '710_dst', '720_dst', '730_dst', \n",
    "          '740_dst', '750_dst', '760_dst', '770_dst', '780_dst', '790_dst', '800_dst', '810_dst', '820_dst', \n",
    "          '830_dst', '840_dst', '850_dst', '860_dst', '870_dst', '880_dst', '890_dst', '900_dst', '910_dst', \n",
    "          '920_dst', '930_dst', '940_dst', '950_dst', '960_dst', '970_dst', '980_dst', '990_dst']"
   ]
  },
  {
   "cell_type": "code",
   "execution_count": 8,
   "metadata": {},
   "outputs": [
    {
     "name": "stderr",
     "output_type": "stream",
     "text": [
      "100%|██████████████████████████████████████████████████████████████████████████| 10000/10000 [00:05<00:00, 1766.87it/s]\n",
      "100%|██████████████████████████████████████████████████████████████████████████| 10000/10000 [00:05<00:00, 1849.05it/s]\n"
     ]
    }
   ],
   "source": [
    "alpha=Xtrain[dst_list]\n",
    "beta=Xtest[dst_list]\n",
    "\n",
    "for i in tqdm(Xtrain.index):\n",
    "    alpha.loc[i] = alpha.loc[i].interpolate()\n",
    "    \n",
    "for i in tqdm(Xtest.index):\n",
    "    beta.loc[i] = beta.loc[i].interpolate()"
   ]
  },
  {
   "cell_type": "code",
   "execution_count": 9,
   "metadata": {},
   "outputs": [],
   "source": [
    "alpha.loc[alpha['700_dst'].isnull(),'700_dst']=alpha.loc[alpha['700_dst'].isnull(),'710_dst']\n",
    "alpha.loc[alpha['690_dst'].isnull(),'690_dst']=alpha.loc[alpha['690_dst'].isnull(),'700_dst']\n",
    "alpha.loc[alpha['680_dst'].isnull(),'680_dst']=alpha.loc[alpha['680_dst'].isnull(),'690_dst']\n",
    "alpha.loc[alpha['670_dst'].isnull(),'670_dst']=alpha.loc[alpha['670_dst'].isnull(),'680_dst']\n",
    "alpha.loc[alpha['660_dst'].isnull(),'660_dst']=alpha.loc[alpha['660_dst'].isnull(),'670_dst']\n",
    "alpha.loc[alpha['650_dst'].isnull(),'650_dst']=alpha.loc[alpha['650_dst'].isnull(),'660_dst']\n",
    "\n",
    "beta.loc[beta['700_dst'].isnull(),'700_dst']=beta.loc[beta['700_dst'].isnull(),'710_dst']\n",
    "beta.loc[beta['690_dst'].isnull(),'690_dst']=beta.loc[beta['690_dst'].isnull(),'700_dst']\n",
    "beta.loc[beta['680_dst'].isnull(),'680_dst']=beta.loc[beta['680_dst'].isnull(),'690_dst']\n",
    "beta.loc[beta['670_dst'].isnull(),'670_dst']=beta.loc[beta['670_dst'].isnull(),'680_dst']\n",
    "beta.loc[beta['660_dst'].isnull(),'660_dst']=beta.loc[beta['660_dst'].isnull(),'670_dst']\n",
    "beta.loc[beta['650_dst'].isnull(),'650_dst']=beta.loc[beta['650_dst'].isnull(),'660_dst']\n",
    "\n",
    "Xtrain[dst_list] = np.array(alpha)\n",
    "Xtest[dst_list] = np.array(beta)"
   ]
  },
  {
   "cell_type": "markdown",
   "metadata": {},
   "source": [
    "## rho"
   ]
  },
  {
   "cell_type": "code",
   "execution_count": 10,
   "metadata": {},
   "outputs": [],
   "source": [
    "for col in dst_list:\n",
    "    Xtrain[col] = Xtrain[col] * (Xtrain['rho'] ** 2)\n",
    "    Xtest[col] = Xtest[col] * (Xtest['rho']**2)"
   ]
  },
  {
   "cell_type": "markdown",
   "metadata": {},
   "source": [
    "## src - dst ratio"
   ]
  },
  {
   "cell_type": "code",
   "execution_count": 11,
   "metadata": {},
   "outputs": [
    {
     "name": "stdout",
     "output_type": "stream",
     "text": [
      "(10000, 106) (10000, 106)\n"
     ]
    }
   ],
   "source": [
    "epsilon=1e-10    #prevent division by zero\n",
    "\n",
    "for dst_col, src_col in zip(dst_list, src_list):\n",
    "    dst_val=Xtrain[dst_col]\n",
    "    src_val=Xtrain[src_col] + epsilon\n",
    "    delta_ratio = dst_val / src_val\n",
    "    Xtrain[dst_col + '_' + src_col + '_ratio'] = delta_ratio\n",
    "    \n",
    "    dst_val=Xtest[dst_col]\n",
    "    src_val=Xtest[src_col] + epsilon\n",
    "    \n",
    "    delta_ratio = dst_val / src_val\n",
    "    Xtest[dst_col + '_' + src_col + '_ratio'] = delta_ratio\n",
    "    \n",
    "print(Xtrain.shape, Xtest.shape)"
   ]
  },
  {
   "cell_type": "markdown",
   "metadata": {},
   "source": [
    "## src - dst gap"
   ]
  },
  {
   "cell_type": "code",
   "execution_count": 12,
   "metadata": {},
   "outputs": [],
   "source": [
    "from sklearn.preprocessing import Normalizer\n",
    "normalizer=Normalizer()\n",
    "\n",
    "all_data = pd.concat((Xtrain, Xtest))\n",
    "data = all_data.copy()\n",
    "\n",
    "all_data[src_list] = normalizer.fit_transform(all_data[src_list])\n",
    "Xtrain[src_list] = all_data[:len(Ytrain)][src_list]\n",
    "Xtest[src_list] = all_data[len(Ytrain):][src_list]\n",
    "\n",
    "del all_data"
   ]
  },
  {
   "cell_type": "code",
   "execution_count": 13,
   "metadata": {},
   "outputs": [
    {
     "name": "stdout",
     "output_type": "stream",
     "text": [
      "(10000, 141) (10000, 4) (10000, 141)\n"
     ]
    }
   ],
   "source": [
    "gap_feature_names=[]\n",
    "for i in range(650, 1000, 10):\n",
    "    gap_feature_names.append(str(i) + '_gap')\n",
    "\n",
    "alpha=pd.DataFrame(np.array(Xtrain[src_list]) - np.array(Xtrain[dst_list]), columns=gap_feature_names, index=train.index)\n",
    "beta=pd.DataFrame(np.array(Xtest[src_list]) - np.array(Xtest[dst_list]), columns=gap_feature_names, index=test.index)\n",
    "\n",
    "Xtrain=pd.concat((Xtrain, alpha), axis=1)\n",
    "Xtest=pd.concat((Xtest, beta), axis=1)\n",
    "\n",
    "print(Xtrain.shape, Ytrain.shape, Xtest.shape)"
   ]
  },
  {
   "cell_type": "markdown",
   "metadata": {},
   "source": [
    "## Discrete Fourier Transform"
   ]
  },
  {
   "cell_type": "code",
   "execution_count": 14,
   "metadata": {},
   "outputs": [
    {
     "name": "stderr",
     "output_type": "stream",
     "text": [
      "100%|███████████████████████████████████████████████████████████████████████████| 10000/10000 [00:17<00:00, 576.14it/s]\n",
      "100%|███████████████████████████████████████████████████████████████████████████| 10000/10000 [00:17<00:00, 583.54it/s]\n"
     ]
    },
    {
     "name": "stdout",
     "output_type": "stream",
     "text": [
      "(10000, 211) (10000, 4) (10000, 211)\n"
     ]
    }
   ],
   "source": [
    "alpha_real=Xtrain[dst_list]\n",
    "alpha_imag=Xtrain[dst_list]\n",
    "\n",
    "beta_real=Xtest[dst_list]\n",
    "beta_imag=Xtest[dst_list]\n",
    "\n",
    "for i in tqdm(alpha_real.index):\n",
    "    alpha_real.loc[i]=alpha_real.loc[i] - alpha_real.loc[i].mean()\n",
    "    alpha_imag.loc[i]=alpha_imag.loc[i] - alpha_real.loc[i].mean()\n",
    "    \n",
    "    alpha_real.loc[i] = np.fft.fft(alpha_real.loc[i], norm='ortho').real\n",
    "    alpha_imag.loc[i] = np.fft.fft(alpha_imag.loc[i], norm='ortho').imag\n",
    "\n",
    "    \n",
    "for i in tqdm(beta_real.index):\n",
    "    beta_real.loc[i]=beta_real.loc[i] - beta_real.loc[i].mean()\n",
    "    beta_imag.loc[i]=beta_imag.loc[i] - beta_imag.loc[i].mean()\n",
    "    \n",
    "    beta_real.loc[i] = np.fft.fft(beta_real.loc[i], norm='ortho').real\n",
    "    beta_imag.loc[i] = np.fft.fft(beta_imag.loc[i], norm='ortho').imag\n",
    "    \n",
    "real_part=[]\n",
    "imag_part=[]\n",
    "\n",
    "for col in dst_list:\n",
    "    real_part.append(col + '_fft_real')\n",
    "    imag_part.append(col + '_fft_imag')\n",
    "    \n",
    "alpha_real.columns=real_part\n",
    "alpha_imag.columns=imag_part\n",
    "alpha = pd.concat((alpha_real, alpha_imag), axis=1)\n",
    "\n",
    "beta_real.columns=real_part\n",
    "beta_imag.columns=imag_part\n",
    "beta=pd.concat((beta_real, beta_imag), axis=1)\n",
    "\n",
    "\n",
    "Xtrain=pd.concat((Xtrain, alpha), axis=1)\n",
    "Xtest=pd.concat((Xtest, beta), axis=1)\n",
    "print(Xtrain.shape, Ytrain.shape, Xtest.shape)"
   ]
  },
  {
   "cell_type": "markdown",
   "metadata": {},
   "source": [
    "## Remove src"
   ]
  },
  {
   "cell_type": "code",
   "execution_count": 15,
   "metadata": {},
   "outputs": [
    {
     "name": "stdout",
     "output_type": "stream",
     "text": [
      "(10000, 176) (10000, 4) (10000, 176)\n"
     ]
    }
   ],
   "source": [
    "Xtrain=Xtrain.drop(columns=src_list)\n",
    "Xtest=Xtest.drop(columns=src_list)\n",
    "\n",
    "print(Xtrain.shape, Ytrain.shape, Xtest.shape)"
   ]
  },
  {
   "cell_type": "markdown",
   "metadata": {},
   "source": [
    "## Target Variable"
   ]
  },
  {
   "cell_type": "code",
   "execution_count": 16,
   "metadata": {},
   "outputs": [
    {
     "data": {
      "text/plain": [
       "<matplotlib.axes._subplots.AxesSubplot at 0x2432fed1b88>"
      ]
     },
     "execution_count": 16,
     "metadata": {},
     "output_type": "execute_result"
    },
    {
     "data": {
      "image/png": "[encoded data removed]",
      "text/plain": [
       "<Figure size 1008x1008 with 4 Axes>"
      ]
     },
     "metadata": {
      "needs_background": "light"
     },
     "output_type": "display_data"
    }
   ],
   "source": [
    "figure, ((ax1, ax2), (ax3, ax4)) = plt.subplots(nrows=2, ncols=2)\n",
    "figure.set_size_inches(14, 14)\n",
    "sns.distplot(Ytrain['hhb'], ax=ax1, fit=norm)\n",
    "sns.distplot(Ytrain['hbo2'], ax=ax2, fit=norm)\n",
    "sns.distplot(Ytrain['ca'], ax=ax3, fit=norm)\n",
    "sns.distplot(Ytrain['na'], ax=ax4, fit=norm)"
   ]
  },
  {
   "cell_type": "code",
   "execution_count": 17,
   "metadata": {},
   "outputs": [
    {
     "data": {
      "text/plain": [
       "<matplotlib.axes._subplots.AxesSubplot at 0x24330da97c8>"
      ]
     },
     "execution_count": 17,
     "metadata": {},
     "output_type": "execute_result"
    },
    {
     "data": {
      "image/png": "[encoded data removed]",
      "text/plain": [
       "<Figure size 1008x504 with 2 Axes>"
      ]
     },
     "metadata": {
      "needs_background": "light"
     },
     "output_type": "display_data"
    }
   ],
   "source": [
    "figure, (ax1, ax2) = plt.subplots(nrows=1, ncols=2)\n",
    "figure.set_size_inches(14, 7)\n",
    "\n",
    "sns.distplot(np.log(Ytrain['na']+1), fit=norm, ax=ax1)\n",
    "sns.distplot(np.log(Ytrain.loc[Ytrain['na']!=0,'na']+1), fit=norm, ax=ax2)"
   ]
  },
  {
   "cell_type": "markdown",
   "metadata": {},
   "source": [
    "## Normalize"
   ]
  },
  {
   "cell_type": "code",
   "execution_count": 18,
   "metadata": {},
   "outputs": [
    {
     "name": "stdout",
     "output_type": "stream",
     "text": [
      "True\n"
     ]
    }
   ],
   "source": [
    "normalizer=Normalizer()\n",
    "dst_features=[]\n",
    "gap_features=[]\n",
    "ratio_features=[]\n",
    "real_features=[]\n",
    "imag_features=[]\n",
    "\n",
    "for col in list(Xtrain):\n",
    "    if col[-4:] == '_dst':\n",
    "        dst_features.append(col)\n",
    "    elif col[-4:] == 'atio':\n",
    "        ratio_features.append(col)\n",
    "    elif col[-4:] == '_gap':\n",
    "        gap_features.append(col)\n",
    "    elif col[-4:] == 'real':\n",
    "        real_features.append(col)\n",
    "    elif col[-4:] == 'imag':\n",
    "        imag_features.append(col)\n",
    "    else:\n",
    "        pass\n",
    "print(len(dst_features + gap_features + ratio_features + real_features + imag_features) +1 == len(list(Xtrain)))\n",
    "\n",
    "all_data = pd.concat((Xtrain, Xtest))\n",
    "all_data[dst_features] = normalizer.fit_transform(all_data[dst_features])\n",
    "all_data[imag_features] = normalizer.fit_transform(all_data[imag_features])\n",
    "all_data[real_features] = normalizer.fit_transform(all_data[real_features])\n",
    "all_data[gap_features] = normalizer.fit_transform(all_data[gap_features])"
   ]
  },
  {
   "cell_type": "code",
   "execution_count": 19,
   "metadata": {},
   "outputs": [
    {
     "name": "stdout",
     "output_type": "stream",
     "text": [
      "(10000, 176) (10000, 4) (10000, 176)\n"
     ]
    }
   ],
   "source": [
    "Xtrain = all_data[:len(Ytrain)]\n",
    "Xtest = all_data[len(Ytrain):]\n",
    "\n",
    "print(Xtrain.shape, Ytrain.shape, Xtest.shape)"
   ]
  },
  {
   "cell_type": "markdown",
   "metadata": {},
   "source": [
    "# Prepare Data"
   ]
  },
  {
   "cell_type": "code",
   "execution_count": 20,
   "metadata": {},
   "outputs": [],
   "source": [
    "Xtrain1 = Xtrain.copy()\n",
    "Xtrain2 = Xtrain.copy()\n",
    "Xtrain3 = Xtrain.copy()\n",
    "Xtrain4 = Xtrain.copy()\n",
    "\n",
    "Xtest1 = Xtest.copy()\n",
    "Xtest2 = Xtest.copy()\n",
    "Xtest3 = Xtest.copy()\n",
    "Xtest4 = Xtest.copy()"
   ]
  },
  {
   "cell_type": "markdown",
   "metadata": {},
   "source": [
    "# Feature Selection"
   ]
  },
  {
   "cell_type": "markdown",
   "metadata": {},
   "source": [
    "## Genetic Algorithm"
   ]
  },
  {
   "cell_type": "code",
   "execution_count": 21,
   "metadata": {},
   "outputs": [],
   "source": [
    "def apply_chromosome(chromosome, x_train):\n",
    "    df = x_train.copy()\n",
    "    for col, apply in zip(x_train.columns, chromosome):\n",
    "        if apply == 0:\n",
    "            df = df.drop(columns=col)\n",
    "    return df\n",
    "\n",
    "\n",
    "def scoring(model, x_train, y_train):\n",
    "    return -cross_val_score(model, x_train, y_train, cv=5, scoring='neg_mean_absolute_error').mean()\n",
    "\n",
    "\n",
    "def make_chromosome_score(chromosome, model, x_train, y_train):\n",
    "    data= apply_chromosome(chromosome, x_train)\n",
    "    value = scoring(model, data, y_train)\n",
    "    return value\n",
    "\n",
    "\n",
    "def choose_chromosomes(chromosomes_list, scored_list, factor, num_choose):\n",
    "    chromosome_pool = chromosomes_list.copy()\n",
    "    score_list = scored_list.copy()\n",
    "    \n",
    "    chosen_chromosome=[]\n",
    "    \n",
    "    new_score_array=np.array(score_list) + np.random.normal(0, np.array(score_list).std() * factor, size=len(score_list))\n",
    "    new_score_list = list(new_score_array)\n",
    "    \n",
    "    for i in range(num_choose):\n",
    "        select_index = np.argmin(new_score_list)\n",
    "        selected = chromosome_pool[select_index]\n",
    "        del chromosome_pool[select_index]\n",
    "        del new_score_list[select_index]\n",
    "        \n",
    "        new_score_array = np.array(new_score_list)\n",
    "        \n",
    "        chosen_chromosome.append(selected)\n",
    "    return chosen_chromosome\n",
    "\n",
    "\n",
    "\n",
    "\n",
    "def crossover(chromosome_list, score_list, next_pool_size, factor, num_choose):\n",
    "    child_pool = []\n",
    "    while len(child_pool) < next_pool_size:\n",
    "        best_parents=choose_chromosomes(chromosome_list, score_list, factor=factor, num_choose=num_choose)\n",
    "        parents = random.sample(best_parents, 2)\n",
    "        mom = parents[0]\n",
    "        dad = parents[1]\n",
    "        inherit = np.round(np.random.uniform(low=0, high=1, size=len(mom)))\n",
    "        child = []\n",
    "\n",
    "        for dna, i in zip(inherit, range(len(inherit))):\n",
    "            if dna==0:\n",
    "                child.append(mom[i])\n",
    "            else:\n",
    "                child.append(dad[i])\n",
    "        child_pool.append(child)\n",
    "    return child_pool\n",
    "\n",
    "\n",
    "\n",
    "def mutant(pool, mutation_rate, mutation_size):\n",
    "    to_be_mutant = np.round(np.random.uniform(low=0, high=1, size=len(pool)) - (0.5 - mutation_rate))\n",
    "    which_child = np.where(to_be_mutant==1)[0]\n",
    "    for child_index in which_child:\n",
    "        mutation_info = np.round(np.random.uniform(low=0, high=1, size=len(to_be_mutant))-(0.5-mutation_size))\n",
    "        mutation_info = np.where(mutation_info ==1)[0]\n",
    "\n",
    "        for is_mutated in mutation_info:\n",
    "\n",
    "            if pool[child_index][is_mutated]==0:\n",
    "                pool[child_index][is_mutated] = 1\n",
    "            elif pool[child_index][is_mutated]==1:\n",
    "                pool[child_index][is_mutated] = 0\n",
    "    return pool\n",
    "\n",
    "\n",
    "def next_generation(model, x_train, y_train, first_gen_chromosome, next_pool_size, factor, num_choose_parents, \n",
    "                   mutation_rate, mutation_size):\n",
    "    score_list=[]\n",
    "    for chromosome in tqdm(first_gen_chromosome):\n",
    "        score = make_chromosome_score(chromosome, model, x_train, y_train)\n",
    "        score_list.append(score)\n",
    "    print(\"Calculating Current Generation's Score\")\n",
    "        \n",
    "    current_generation_best_chromosome = first_gen_chromosome[np.argmin(score_list)]\n",
    "    current_generation_best_score = np.min(score_list)\n",
    "    current_generation_mean_score = np.mean(score_list)\n",
    "\n",
    "\n",
    "    print(current_generation_best_chromosome)\n",
    "    print(f\"\\nBest Score : {current_generation_best_score}\")\n",
    "\n",
    "    print(\"Generating Child pool\")\n",
    "    child_pool = crossover(first_gen_chromosome, score_list, next_pool_size=next_pool_size, \n",
    "                           factor=factor, num_choose=num_choose_parents)\n",
    "    print(\"Generating Mutation childs\")\n",
    "    next_generation_chromosomes = mutant(child_pool, mutation_rate=mutation_rate, mutation_size=mutation_size)\n",
    "    \n",
    "    print('Done!')\n",
    "    return next_generation_chromosomes, current_generation_best_chromosome, \\\n",
    "                current_generation_best_score, current_generation_mean_score\n",
    "\n",
    "\n",
    "\n",
    "\n",
    "\n",
    "def feature_select_ga(model, x_train, y_train, num_epoch, pool_size, factor=0.1, \n",
    "                      num_choose_parents=3, mutation_rate=0.05, mutation_size=0.05, plot_score = True):\n",
    "    \n",
    "    #factor : percentage of noise added to calculated score\n",
    "    #if too large, bad scoring parents could be selected since score order changes\n",
    "    \n",
    "    #mutation_rate : percentage of childs to be mutated\n",
    "    #mutation_size : percentage of genes to be mutated\n",
    "    \n",
    "    pool_size = pool_size\n",
    "    pool=[]\n",
    "    \n",
    "    for i in range(pool_size):\n",
    "        chromosome = np.round(np.random.uniform(low=0, high=1, size=x_train.shape[1]))\n",
    "        pool.append(chromosome)\n",
    "    \n",
    "    best_features=[]\n",
    "    best_scores=[]\n",
    "    mean_scores=[]\n",
    "    \n",
    "    for i in tqdm(range(num_epoch)):\n",
    "        pool, gen_best_features, gen_best_score, gen_mean_score = next_generation(model, x_train, y_train, pool, \n",
    "                                                                            next_pool_size=pool_size, \n",
    "                                                                            factor = factor, \n",
    "                                                                            num_choose_parents=num_choose_parents, \n",
    "                                                                            mutation_rate=mutation_rate, \n",
    "                                                                            mutation_size=mutation_size)\n",
    "        best_features.append(gen_best_features)\n",
    "        best_scores.append(gen_best_score)\n",
    "        mean_scores.append(gen_mean_score)\n",
    "        \n",
    "    \n",
    "    final_score_list=[]\n",
    "    for chromosome in tqdm(pool):\n",
    "        score = make_chromosome_score(chromosome, base_model, x_train, y_train)\n",
    "        final_score_list.append(score)\n",
    "\n",
    "    last_generation_best_chromosome = pool[np.argmin(final_score_list)]\n",
    "    last_generation_best_score = np.min(final_score_list)\n",
    "    last_generation_mean_score = np.mean(final_score_list)\n",
    "\n",
    "    best_features.append(last_generation_best_chromosome)\n",
    "    best_scores.append(last_generation_best_score)\n",
    "    mean_scores.append(last_generation_mean_score)\n",
    "    \n",
    "    if plot_score==True:\n",
    "        figure, ax1 = plt.subplots(nrows=1, ncols=1)\n",
    "        figure.set_size_inches(10, 7)\n",
    "        sns.lineplot(data=np.array(best_scores), ax=ax1, label='best')\n",
    "        sns.lineplot(data=np.array(mean_scores), ax=ax1, label='mean')\n",
    "        \n",
    "    best_chromosome = best_features[np.argmin(best_scores)]\n",
    "\n",
    "    df = apply_chromosome(best_chromosome, x_train)\n",
    "    print(f\"best_features = {list(df)}\")\n",
    "    return df"
   ]
  },
  {
   "cell_type": "markdown",
   "metadata": {},
   "source": [
    "변수 선택을 위해 유전 알고리즘 구현. 위에서 선언한 base_model 을 이용해서, 점수를 매기고, 최고의 점수를 내는 변수 조합을 선택. "
   ]
  },
  {
   "cell_type": "code",
   "execution_count": 22,
   "metadata": {},
   "outputs": [
    {
     "name": "stdout",
     "output_type": "stream",
     "text": [
      "(10000, 78) (10000,) (10000, 78)\n"
     ]
    }
   ],
   "source": [
    "#Xtrain1 = feature_select_ga(base_model, Xtrain1, Ytrain1, pool_size=15, num_epoch=20,\n",
    "#                           num_choose_parents=4, mutation_rate=0.1, mutation_size=0.1)\n",
    "#Xtest1 = Xtest1[list(Xtrain1)]\n",
    "\n",
    "best_features = ['rho', '650_dst', '680_dst', '770_dst', '790_dst', '810_dst', '830_dst', '840_dst', '850_dst', '860_dst', '880_dst', '890_dst', '930_dst', '960_dst', '980_dst', '650_dst_650_src_ratio', '660_dst_660_src_ratio', '690_dst_690_src_ratio', '720_dst_720_src_ratio', '760_dst_760_src_ratio', '770_dst_770_src_ratio', '800_dst_800_src_ratio', '810_dst_810_src_ratio', '830_dst_830_src_ratio', '840_dst_840_src_ratio', '850_dst_850_src_ratio', '860_dst_860_src_ratio', '870_dst_870_src_ratio', '920_dst_920_src_ratio', '930_dst_930_src_ratio', '940_dst_940_src_ratio', '990_dst_990_src_ratio', '650_gap', '700_gap', '720_gap', '790_gap', '800_gap', '820_gap', '840_gap', '860_gap', '910_gap', '920_gap', '930_gap', '940_gap', '950_gap', '960_gap', '980_gap', '660_dst_fft_real', '670_dst_fft_real', '680_dst_fft_real', '690_dst_fft_real', '720_dst_fft_real', '740_dst_fft_real', '780_dst_fft_real', '800_dst_fft_real', '810_dst_fft_real', '840_dst_fft_real', '850_dst_fft_real', '870_dst_fft_real', '890_dst_fft_real', '910_dst_fft_real', '920_dst_fft_real', '930_dst_fft_real', '950_dst_fft_real', '650_dst_fft_imag', '670_dst_fft_imag', '730_dst_fft_imag', '770_dst_fft_imag', '780_dst_fft_imag', '840_dst_fft_imag', '850_dst_fft_imag', '860_dst_fft_imag', '890_dst_fft_imag', '900_dst_fft_imag', '920_dst_fft_imag', '960_dst_fft_imag', '980_dst_fft_imag', '990_dst_fft_imag']\n",
    "Xtrain1 = Xtrain1[best_features]\n",
    "Xtest1 = Xtest1[best_features]\n",
    "\n",
    "\n",
    "print(Xtrain1.shape, Ytrain1.shape, Xtest1.shape)"
   ]
  },
  {
   "cell_type": "code",
   "execution_count": 23,
   "metadata": {},
   "outputs": [
    {
     "name": "stdout",
     "output_type": "stream",
     "text": [
      "(10000, 81) (10000,) (10000, 81)\n"
     ]
    }
   ],
   "source": [
    "#Xtrain2 = feature_select_ga(base_model, Xtrain2, Ytrain2, pool_size=15, num_epoch=20, \n",
    "#                            num_choose_parents=4, mutation_rate=0.1, mutation_size=0.1)\n",
    "#Xtest2 = Xtest2[list(Xtrain2)]\n",
    "\n",
    "best_features = ['rho', '670_dst', '730_dst', '750_dst', '770_dst', '780_dst', '790_dst', '800_dst', '830_dst', '870_dst', '890_dst', '900_dst', '950_dst', '960_dst', '970_dst', '980_dst', '990_dst', '670_dst_670_src_ratio', '730_dst_730_src_ratio', '740_dst_740_src_ratio', '750_dst_750_src_ratio', '780_dst_780_src_ratio', '790_dst_790_src_ratio', '800_dst_800_src_ratio', '830_dst_830_src_ratio', '840_dst_840_src_ratio', '850_dst_850_src_ratio', '890_dst_890_src_ratio', '910_dst_910_src_ratio', '920_dst_920_src_ratio', '930_dst_930_src_ratio', '950_dst_950_src_ratio', '970_dst_970_src_ratio', '990_dst_990_src_ratio', '650_gap', '670_gap', '690_gap', '770_gap', '780_gap', '790_gap', '800_gap', '810_gap', '820_gap', '960_gap', '980_gap', '990_gap', '660_dst_fft_real', '670_dst_fft_real', '730_dst_fft_real', '750_dst_fft_real', '770_dst_fft_real', '800_dst_fft_real', '810_dst_fft_real', '830_dst_fft_real', '880_dst_fft_real', '930_dst_fft_real', '950_dst_fft_real', '960_dst_fft_real', '970_dst_fft_real', '980_dst_fft_real', '990_dst_fft_real', '650_dst_fft_imag', '670_dst_fft_imag', '680_dst_fft_imag', '700_dst_fft_imag', '720_dst_fft_imag', '730_dst_fft_imag', '740_dst_fft_imag', '750_dst_fft_imag', '780_dst_fft_imag', '790_dst_fft_imag', '840_dst_fft_imag', '850_dst_fft_imag', '860_dst_fft_imag', '870_dst_fft_imag', '880_dst_fft_imag', '920_dst_fft_imag', '930_dst_fft_imag', '940_dst_fft_imag', '950_dst_fft_imag', '960_dst_fft_imag']\n",
    "Xtrain2 = Xtrain2[best_features]\n",
    "Xtest2 = Xtest2[best_features]\n",
    "\n",
    "print(Xtrain2.shape, Ytrain2.shape, Xtest2.shape)"
   ]
  },
  {
   "cell_type": "code",
   "execution_count": 24,
   "metadata": {},
   "outputs": [
    {
     "name": "stdout",
     "output_type": "stream",
     "text": [
      "(10000, 98) (10000,) (10000, 98)\n"
     ]
    }
   ],
   "source": [
    "#Xtrain3 = feature_select_ga(base_model, Xtrain3, Ytrain3, pool_size=15, num_epoch=20, \n",
    "#                           num_choose_parents=4, mutation_rate=0.1, mutation_size=0.1)\n",
    "#Xtest3 = Xtest3[list(Xtrain3)]\n",
    "\n",
    "best_features = ['rho', '670_dst', '680_dst', '700_dst', '750_dst', '760_dst', '780_dst', '800_dst', '810_dst', '820_dst', '840_dst', '850_dst', '860_dst', '880_dst', '910_dst', '930_dst', '940_dst', '950_dst', '960_dst', '970_dst', '980_dst', '650_dst_650_src_ratio', '670_dst_670_src_ratio', '690_dst_690_src_ratio', '710_dst_710_src_ratio', '720_dst_720_src_ratio', '740_dst_740_src_ratio', '750_dst_750_src_ratio', '770_dst_770_src_ratio', '830_dst_830_src_ratio', '840_dst_840_src_ratio', '850_dst_850_src_ratio', '860_dst_860_src_ratio', '870_dst_870_src_ratio', '900_dst_900_src_ratio', '950_dst_950_src_ratio', '960_dst_960_src_ratio', '980_dst_980_src_ratio', '680_gap', '690_gap', '740_gap', '760_gap', '770_gap', '790_gap', '800_gap', '820_gap', '830_gap', '840_gap', '860_gap', '870_gap', '890_gap', '910_gap', '920_gap', '940_gap', '960_gap', '980_gap', '990_gap', '710_dst_fft_real', '720_dst_fft_real', '730_dst_fft_real', '740_dst_fft_real', '750_dst_fft_real', '760_dst_fft_real', '770_dst_fft_real', '780_dst_fft_real', '810_dst_fft_real', '820_dst_fft_real', '830_dst_fft_real', '840_dst_fft_real', '850_dst_fft_real', '860_dst_fft_real', '870_dst_fft_real', '920_dst_fft_real', '930_dst_fft_real', '950_dst_fft_real', '970_dst_fft_real', '980_dst_fft_real', '660_dst_fft_imag', '670_dst_fft_imag', '690_dst_fft_imag', '720_dst_fft_imag', '730_dst_fft_imag', '740_dst_fft_imag', '750_dst_fft_imag', '770_dst_fft_imag', '780_dst_fft_imag', '790_dst_fft_imag', '800_dst_fft_imag', '810_dst_fft_imag', '830_dst_fft_imag', '860_dst_fft_imag', '880_dst_fft_imag', '890_dst_fft_imag', '930_dst_fft_imag', '940_dst_fft_imag', '950_dst_fft_imag', '960_dst_fft_imag', '980_dst_fft_imag']\n",
    "Xtrain3 = Xtrain[best_features]\n",
    "Xtest3 = Xtest[best_features]\n",
    "\n",
    "print(Xtrain3.shape, Ytrain3.shape, Xtest3.shape)"
   ]
  },
  {
   "cell_type": "code",
   "execution_count": 25,
   "metadata": {},
   "outputs": [
    {
     "name": "stdout",
     "output_type": "stream",
     "text": [
      "(10000, 91) (10000,) (10000, 91)\n"
     ]
    }
   ],
   "source": [
    "#Xtrain4 = feature_select_ga(base_model, Xtrain4, Ytrain4, pool_size=15, num_epoch=20, \n",
    "#                           num_choose_parents=4, mutation_rate=0.1, mutation_size=0.1)\n",
    "#Xtest4 = Xtest4[list(Xtrain4)]\n",
    "\n",
    "best_features = ['rho', '670_dst', '680_dst', '690_dst', '720_dst', '740_dst', '750_dst', '760_dst', '780_dst', '790_dst', '830_dst', '840_dst', '850_dst', '870_dst', '880_dst', '890_dst', '900_dst', '910_dst', '920_dst', '950_dst', '970_dst', '980_dst', '650_dst_650_src_ratio', '700_dst_700_src_ratio', '710_dst_710_src_ratio', '720_dst_720_src_ratio', '730_dst_730_src_ratio', '740_dst_740_src_ratio', '760_dst_760_src_ratio', '770_dst_770_src_ratio', '780_dst_780_src_ratio', '800_dst_800_src_ratio', '810_dst_810_src_ratio', '830_dst_830_src_ratio', '840_dst_840_src_ratio', '850_dst_850_src_ratio', '860_dst_860_src_ratio', '870_dst_870_src_ratio', '880_dst_880_src_ratio', '890_dst_890_src_ratio', '910_dst_910_src_ratio', '920_dst_920_src_ratio', '930_dst_930_src_ratio', '980_dst_980_src_ratio', '660_gap', '680_gap', '690_gap', '700_gap', '710_gap', '770_gap', '780_gap', '850_gap', '860_gap', '880_gap', '900_gap', '910_gap', '920_gap', '930_gap', '950_gap', '650_dst_fft_real', '670_dst_fft_real', '680_dst_fft_real', '690_dst_fft_real', '710_dst_fft_real', '720_dst_fft_real', '740_dst_fft_real', '760_dst_fft_real', '810_dst_fft_real', '840_dst_fft_real', '850_dst_fft_real', '860_dst_fft_real', '890_dst_fft_real', '900_dst_fft_real', '940_dst_fft_real', '970_dst_fft_real', '980_dst_fft_real', '660_dst_fft_imag', '670_dst_fft_imag', '710_dst_fft_imag', '720_dst_fft_imag', '730_dst_fft_imag', '770_dst_fft_imag', '780_dst_fft_imag', '790_dst_fft_imag', '810_dst_fft_imag', '870_dst_fft_imag', '890_dst_fft_imag', '910_dst_fft_imag', '940_dst_fft_imag', '950_dst_fft_imag', '970_dst_fft_imag']\n",
    "Xtrain4 = Xtrain4[best_features]\n",
    "Xtest4 = Xtest4[best_features]\n",
    "\n",
    "\n",
    "print(Xtrain4.shape, Ytrain4.shape, Xtest4.shape)"
   ]
  },
  {
   "cell_type": "markdown",
   "metadata": {},
   "source": [
    "'#' 을 지우고 변수 선택 코드를 진행하면, 950 * 20 * 4 / 3600 = 약 21.11  - 4개 데이터셋 변수 선택 약 21시간 걸림. best_features 에 진행했던 결과물들만 복사해서 4개의 다른 Xtrain 들을 만들었음."
   ]
  },
  {
   "cell_type": "markdown",
   "metadata": {},
   "source": [
    "# Build Models"
   ]
  },
  {
   "cell_type": "markdown",
   "metadata": {},
   "source": [
    "## LightGBM"
   ]
  },
  {
   "cell_type": "markdown",
   "metadata": {},
   "source": [
    "### hhb"
   ]
  },
  {
   "cell_type": "code",
   "execution_count": 26,
   "metadata": {},
   "outputs": [
    {
     "name": "stdout",
     "output_type": "stream",
     "text": [
      "Validation Time : 312.063 sec\n",
      "lgb score 1 : 0.6450181806462878\n"
     ]
    }
   ],
   "source": [
    "lgb_params1 = {'n_estimators': 2785, 'learning_rate': 0.012256313719980687, 'num_leaves': 73, \n",
    "               'colsample_bytree': 0.6424334465587705, 'subsample': 0.6084147966276774, \n",
    "               'reg_alpha': 4.334078134974237e-05, 'reg_lambda': 0.00024427748977268426, 'min_data_in_leaf': 16}\n",
    "lgb1 = LGBMRegressor(subsample_freq=1, silent=False, random_state=18, **lgb_params1)\n",
    "\n",
    "lgb_score1 = model_scoring_cv(lgb1, Xtrain1, Ytrain1)\n",
    "print(f\"lgb score 1 : {lgb_score1}\")"
   ]
  },
  {
   "cell_type": "markdown",
   "metadata": {},
   "source": [
    "### hbo2"
   ]
  },
  {
   "cell_type": "code",
   "execution_count": 27,
   "metadata": {},
   "outputs": [
    {
     "name": "stdout",
     "output_type": "stream",
     "text": [
      "Validation Time : 242.814 sec\n",
      "lgb score 2 : 0.47096186669621254\n"
     ]
    }
   ],
   "source": [
    "lgb_params2 = {'n_estimators': 2994, 'learning_rate': 0.02064007127149768, 'num_leaves': 36, \n",
    "               'colsample_bytree': 0.9662203993996966, 'subsample': 0.8235831321555162, \n",
    "               'reg_alpha': 9.361670014148117e-10, 'reg_lambda': 0.014778229454777763, 'min_data_in_leaf': 69}\n",
    "\n",
    "lgb2=LGBMRegressor(subsample_freq=1, silent=False, random_state=18, **lgb_params2)\n",
    "lgb_score2 = model_scoring_cv(lgb2, Xtrain2, Ytrain2)\n",
    "print(f\"lgb score 2 : {lgb_score2}\")"
   ]
  },
  {
   "cell_type": "markdown",
   "metadata": {},
   "source": [
    "### ca"
   ]
  },
  {
   "cell_type": "code",
   "execution_count": 28,
   "metadata": {},
   "outputs": [
    {
     "name": "stdout",
     "output_type": "stream",
     "text": [
      "Validation Time : 301.473 sec\n",
      "lgb score 3 : 1.519919905631499\n"
     ]
    }
   ],
   "source": [
    "lgb_params3 = {'n_estimators': 2351, 'learning_rate': 0.0142123934679665, 'num_leaves': 60, \n",
    "               'colsample_bytree': 0.8200484609355502, 'subsample': 0.8682071101415381, \n",
    "               'reg_alpha': 0.019504059762055263, 'reg_lambda': 6.760777234202785e-07, 'min_data_in_leaf': 58}\n",
    "\n",
    "lgb3=LGBMRegressor(subsample_freq=1, silent=False, random_state=18, **lgb_params3)\n",
    "lgb_score3 = model_scoring_cv(lgb3, Xtrain3, Ytrain3)\n",
    "print(f\"lgb score 3 : {lgb_score3}\")"
   ]
  },
  {
   "cell_type": "markdown",
   "metadata": {},
   "source": [
    "### na"
   ]
  },
  {
   "cell_type": "code",
   "execution_count": 29,
   "metadata": {},
   "outputs": [
    {
     "name": "stdout",
     "output_type": "stream",
     "text": [
      "Validation Time : 141.399 sec\n",
      "lgb score 4 : 1.0987161424910443\n"
     ]
    }
   ],
   "source": [
    "lgb_params4 = {'n_estimators': 2036, 'learning_rate': 0.010105984741650555, 'num_leaves': 262, \n",
    "               'colsample_bytree': 0.5481503221078929, 'subsample': 0.6283957235662508, \n",
    "               'reg_alpha': 1.3143634189790955e-06, 'reg_lambda': 1.4769566595629849e-05, \n",
    "               'min_data_in_leaf': 86}\n",
    "\n",
    "lgb4=LGBMRegressor(subsample_freq=1, silent=False, random_state=18, **lgb_params4)\n",
    "lgb_score4 = model_scoring_cv(lgb4, Xtrain4, Ytrain4)\n",
    "print(f\"lgb score 4 : {lgb_score4}\")"
   ]
  },
  {
   "cell_type": "code",
   "execution_count": 30,
   "metadata": {},
   "outputs": [
    {
     "name": "stdout",
     "output_type": "stream",
     "text": [
      "LightGBM Mean CV Score : 0.933654023866261\n"
     ]
    }
   ],
   "source": [
    "print(f\"LightGBM Mean CV Score : {(lgb_score1 + lgb_score2 + lgb_score3 + lgb_score4)/4}\")"
   ]
  },
  {
   "cell_type": "markdown",
   "metadata": {},
   "source": [
    "## XGBoost"
   ]
  },
  {
   "cell_type": "markdown",
   "metadata": {},
   "source": [
    "### hhb"
   ]
  },
  {
   "cell_type": "code",
   "execution_count": 31,
   "metadata": {},
   "outputs": [
    {
     "name": "stdout",
     "output_type": "stream",
     "text": [
      "Validation Time : 974.623 sec\n",
      "xgb score 1 : 0.6597893721626996\n"
     ]
    }
   ],
   "source": [
    "xgb_params1 = {'n_estimators': 2881, 'learning_rate': 0.011711857673636635, 'max_depth': 8, \n",
    "               'colsample_bytree': 0.9827808935047092, \n",
    "               'subsample': 0.5710690334832227, 'reg_alpha': 1.3854966003147966, \n",
    "               'reg_lambda': 0.0003816097499332342}\n",
    "\n",
    "xgb1 = XGBRegressor(verbosity=0, random_state=18, objective = 'reg:squarederror', eval_metric='mae', \n",
    "                    **xgb_params1, \n",
    "                   sampling_method='gradient_based', tree_method='gpu_hist'\n",
    "                   )\n",
    "\n",
    "xgb_score1 = model_scoring_cv(xgb1, Xtrain1, Ytrain1)\n",
    "print(f\"xgb score 1 : {xgb_score1}\")"
   ]
  },
  {
   "cell_type": "markdown",
   "metadata": {},
   "source": [
    "### hbo2"
   ]
  },
  {
   "cell_type": "code",
   "execution_count": 32,
   "metadata": {},
   "outputs": [
    {
     "name": "stdout",
     "output_type": "stream",
     "text": [
      "Validation Time : 232.204 sec\n",
      "xgb score 2 : 0.4805120802893638\n"
     ]
    }
   ],
   "source": [
    "xgb_params2 = {'n_estimators': 2865, 'learning_rate': 0.043801989516317016, 'max_depth': 4, \n",
    "               'colsample_bytree': 0.8778900801725762, 'subsample': 0.7274550283257443, \n",
    "               'reg_alpha': 2.792469294881351e-07, 'reg_lambda': 18.480038009887284}\n",
    "\n",
    "xgb2 = XGBRegressor(verbosity=0, random_state=18, objective = 'reg:squarederror', eval_metric='mae', \n",
    "                    **xgb_params2, \n",
    "                   sampling_method='gradient_based', tree_method='gpu_hist', \n",
    "                   )\n",
    "\n",
    "xgb_score2 = model_scoring_cv(xgb2, Xtrain2, Ytrain2)\n",
    "print(f\"xgb score 2 : {xgb_score2}\")"
   ]
  },
  {
   "cell_type": "markdown",
   "metadata": {},
   "source": [
    "### ca"
   ]
  },
  {
   "cell_type": "code",
   "execution_count": 33,
   "metadata": {},
   "outputs": [
    {
     "name": "stdout",
     "output_type": "stream",
     "text": [
      "Validation Time : 315.204 sec\n",
      "xgb score 3 : 1.5351869589180944\n"
     ]
    }
   ],
   "source": [
    "xgb_params3 = {'n_estimators': 2643, 'learning_rate': 0.031712179695614046, 'max_depth': 5, \n",
    "               'colsample_bytree': 0.7424966681183006, 'subsample': 0.787669908095534, \n",
    "               'reg_alpha': 0.0019021769478904957, 'reg_lambda': 0.6331937967083731}\n",
    "\n",
    "xgb3 = XGBRegressor(verbosity=0, random_state=18, objective = 'reg:squarederror', eval_metric='mae', \n",
    "                    **xgb_params3,\n",
    "                    sampling_method='gradient_based', tree_method='gpu_hist', \n",
    "                   )\n",
    "\n",
    "xgb_score3 = model_scoring_cv(xgb3, Xtrain3, Ytrain3)\n",
    "print(f\"xgb score 3 : {xgb_score3}\")"
   ]
  },
  {
   "cell_type": "markdown",
   "metadata": {},
   "source": [
    "### na"
   ]
  },
  {
   "cell_type": "code",
   "execution_count": 34,
   "metadata": {},
   "outputs": [
    {
     "name": "stdout",
     "output_type": "stream",
     "text": [
      "Validation Time : 426.062 sec\n",
      "xgb score 4 : 1.107904721993923\n"
     ]
    }
   ],
   "source": [
    "xgb_params4 = {'n_estimators': 2692, 'learning_rate': 0.0304561991789567, 'max_depth': 6, \n",
    "               'colsample_bytree': 0.561225558419653, 'subsample': 0.7109372329820719, \n",
    "               'reg_alpha': 6.551680601955312e-08, 'reg_lambda': 4.484664174506758}\n",
    "\n",
    "xgb4 = XGBRegressor(verbosity=0, random_state=18, objective = 'reg:squarederror', eval_metric='mae', \n",
    "                    **xgb_params4, \n",
    "                   sampling_method='gradient_based', tree_method='gpu_hist', \n",
    "                   )\n",
    "\n",
    "\n",
    "xgb_score4 = model_scoring_cv(xgb4, Xtrain4, Ytrain4)\n",
    "print(f\"xgb score 4 : {xgb_score4}\")"
   ]
  },
  {
   "cell_type": "code",
   "execution_count": 35,
   "metadata": {},
   "outputs": [
    {
     "name": "stdout",
     "output_type": "stream",
     "text": [
      "XGBoost Mean CV Score : 0.9458482833410202\n"
     ]
    }
   ],
   "source": [
    "print(f\"XGBoost Mean CV Score : {(xgb_score1 + xgb_score2 + xgb_score3 + xgb_score4)/4}\")"
   ]
  },
  {
   "cell_type": "markdown",
   "metadata": {},
   "source": [
    "## CatBoost"
   ]
  },
  {
   "cell_type": "markdown",
   "metadata": {},
   "source": [
    "### hhb"
   ]
  },
  {
   "cell_type": "code",
   "execution_count": 36,
   "metadata": {},
   "outputs": [
    {
     "name": "stdout",
     "output_type": "stream",
     "text": [
      "Validation Time : 785.542 sec\n",
      "CatBoostScore1 : 0.6847231512252785\n"
     ]
    }
   ],
   "source": [
    "cat_params1 = {'iterations': 2681, 'depth': 7, 'learning_rate': 0.08663866615470771, \n",
    "               'random_strength': 9.235074797628041, 'l2_leaf_reg': 8.164833371246262, \n",
    "               'bagging_temperature': 0.8220097439681222}\n",
    "\n",
    "cat1 = CatBoostRegressor(loss_function='MAE', random_seed=18, verbose=False, **cat_params1,\n",
    "                         task_type='GPU'\n",
    "                        )\n",
    "cat_score1 = model_scoring_cv(cat1, Xtrain1, Ytrain1)\n",
    "print(f\"CatBoostScore1 : {cat_score1}\")"
   ]
  },
  {
   "cell_type": "markdown",
   "metadata": {},
   "source": [
    "### hbo2"
   ]
  },
  {
   "cell_type": "code",
   "execution_count": 37,
   "metadata": {},
   "outputs": [
    {
     "name": "stdout",
     "output_type": "stream",
     "text": [
      "Validation Time : 609.407 sec\n",
      "CatBoostScore2 : 0.4901726900123041\n"
     ]
    }
   ],
   "source": [
    "cat_params2 = {'iterations': 2769, 'depth': 6, 'learning_rate': 0.17889638008330497, \n",
    "               'random_strength': 9.283130620824029, 'l2_leaf_reg': 43.78952651533997, \n",
    "               'bagging_temperature': 0.7378285753465266}\n",
    "cat2 = CatBoostRegressor(loss_function='MAE', random_seed=18, verbose=False, **cat_params2,\n",
    "                         task_type='GPU'\n",
    "                        )\n",
    "cat_score2 = model_scoring_cv(cat2, Xtrain2, Ytrain2)\n",
    "print(f\"CatBoostScore2 : {cat_score2}\")"
   ]
  },
  {
   "cell_type": "markdown",
   "metadata": {},
   "source": [
    "### ca"
   ]
  },
  {
   "cell_type": "code",
   "execution_count": 38,
   "metadata": {},
   "outputs": [
    {
     "name": "stdout",
     "output_type": "stream",
     "text": [
      "Validation Time : 938.061 sec\n",
      "CatBoostScore3 : 1.5602005106402956\n"
     ]
    }
   ],
   "source": [
    "cat_params3 = {'iterations': 2843, 'depth': 7, 'learning_rate': 0.2677960942055296, \n",
    "               'random_strength': 5.280805075485188, 'l2_leaf_reg': 6.178243639724696, \n",
    "               'bagging_temperature': 0.03590951004104092}\n",
    "\n",
    "cat3 = CatBoostRegressor(loss_function='MAE', random_seed=18, verbose=False, **cat_params3,\n",
    "                         task_type='GPU'\n",
    "                        )\n",
    "cat_score3 = model_scoring_cv(cat3, Xtrain3, Ytrain3)\n",
    "print(f\"CatBoostScore3 : {cat_score3}\")"
   ]
  },
  {
   "cell_type": "markdown",
   "metadata": {},
   "source": [
    "### na"
   ]
  },
  {
   "cell_type": "code",
   "execution_count": 39,
   "metadata": {},
   "outputs": [
    {
     "name": "stdout",
     "output_type": "stream",
     "text": [
      "Validation Time : 899.926 sec\n",
      "CatBoostScore4 : 1.1108542319122767\n"
     ]
    }
   ],
   "source": [
    "cat_params4 = {'iterations': 2911, 'depth': 7, 'learning_rate': 0.0923974192869855, \n",
    "               'bagging_temperature': 0.04030601548502897, 'random_strength': 8.50411971804888}\n",
    "\n",
    "cat4 = CatBoostRegressor(loss_function='MAE', random_seed=18, verbose=False, **cat_params4,\n",
    "                         task_type='GPU'\n",
    "                        )\n",
    "cat_score4 = model_scoring_cv(cat4, Xtrain4, Ytrain4)\n",
    "print(f\"CatBoostScore4 : {cat_score4}\")"
   ]
  },
  {
   "cell_type": "code",
   "execution_count": 40,
   "metadata": {},
   "outputs": [
    {
     "name": "stdout",
     "output_type": "stream",
     "text": [
      "CatBoost Mean CV Score : 0.9614876459475388\n"
     ]
    }
   ],
   "source": [
    "print(f\"CatBoost Mean CV Score : {(cat_score1 + cat_score2 + cat_score3 + cat_score4) / 4}\")"
   ]
  },
  {
   "cell_type": "markdown",
   "metadata": {},
   "source": [
    "# Ensemble"
   ]
  },
  {
   "cell_type": "code",
   "execution_count": 41,
   "metadata": {},
   "outputs": [],
   "source": [
    "models_hhb=[lgb1, xgb1, cat1]\n",
    "models_hbo2=[lgb2, xgb2, cat2]\n",
    "models_ca=[lgb3, xgb3, cat3]\n",
    "models_na=[lgb4, xgb4, cat4]"
   ]
  },
  {
   "cell_type": "code",
   "execution_count": 42,
   "metadata": {},
   "outputs": [],
   "source": [
    "train_preds_hhb = pd.DataFrame(data=None, index=train.index)\n",
    "train_preds_hbo2 = pd.DataFrame(data=None, index=train.index)\n",
    "train_preds_ca = pd.DataFrame(data=None, index=train.index)\n",
    "train_preds_na = pd.DataFrame(data=None, index=train.index)\n",
    "\n",
    "test_preds_hhb = pd.DataFrame(data=None, index=test.index)\n",
    "test_preds_hbo2 = pd.DataFrame(data=None, index=test.index)\n",
    "test_preds_ca = pd.DataFrame(data=None, index=test.index)\n",
    "test_preds_na = pd.DataFrame(data=None, index=test.index)"
   ]
  },
  {
   "cell_type": "code",
   "execution_count": 43,
   "metadata": {},
   "outputs": [
    {
     "name": "stderr",
     "output_type": "stream",
     "text": [
      "2it [15:12, 406.93s/it]Warning: less than 75% gpu memory available for training. Free: 4450.2 Total: 6144\n",
      "Warning: less than 75% gpu memory available for training. Free: 4450.2 Total: 6144\n",
      "Warning: less than 75% gpu memory available for training. Free: 4450.2 Total: 6144\n",
      "Warning: less than 75% gpu memory available for training. Free: 4450.2 Total: 6144\n",
      "Warning: less than 75% gpu memory available for training. Free: 4450.2 Total: 6144\n",
      "Warning: less than 75% gpu memory available for training. Free: 4450.2 Total: 6144\n",
      "3it [22:56, 458.98s/it]\n",
      "2it [06:35, 222.33s/it]Warning: less than 75% gpu memory available for training. Free: 3819.0125 Total: 6144\n",
      "Warning: less than 75% gpu memory available for training. Free: 3819.0125 Total: 6144\n",
      "Warning: less than 75% gpu memory available for training. Free: 3819.0125 Total: 6144\n",
      "Warning: less than 75% gpu memory available for training. Free: 3819.0125 Total: 6144\n",
      "Warning: less than 75% gpu memory available for training. Free: 3819.0125 Total: 6144\n",
      "Warning: less than 75% gpu memory available for training. Free: 3819.0125 Total: 6144\n",
      "3it [12:35, 251.73s/it]\n",
      "2it [08:35, 286.84s/it]Warning: less than 75% gpu memory available for training. Free: 3044.45 Total: 6144\n",
      "Warning: less than 75% gpu memory available for training. Free: 3044.45 Total: 6144\n",
      "Warning: less than 75% gpu memory available for training. Free: 3044.45 Total: 6144\n",
      "Warning: less than 75% gpu memory available for training. Free: 3044.45 Total: 6144\n",
      "Warning: less than 75% gpu memory available for training. Free: 3044.45 Total: 6144\n",
      "Warning: less than 75% gpu memory available for training. Free: 3044.45 Total: 6144\n",
      "3it [17:54, 358.18s/it]\n",
      "2it [06:33, 175.54s/it]Warning: less than 75% gpu memory available for training. Free: 2323.1375 Total: 6144\n",
      "Warning: less than 75% gpu memory available for training. Free: 2323.1375 Total: 6144\n",
      "Warning: less than 75% gpu memory available for training. Free: 2323.1375 Total: 6144\n",
      "Warning: less than 75% gpu memory available for training. Free: 2323.1375 Total: 6144\n",
      "Warning: less than 75% gpu memory available for training. Free: 2323.1375 Total: 6144\n",
      "Warning: less than 75% gpu memory available for training. Free: 2323.1375 Total: 6144\n",
      "3it [15:26, 308.87s/it]\n"
     ]
    },
    {
     "name": "stdout",
     "output_type": "stream",
     "text": [
      "(10000, 3) (10000, 3) (10000, 3) (10000, 3)\n",
      "(10000, 3) (10000, 3) (10000, 3) (10000, 3)\n"
     ]
    }
   ],
   "source": [
    "for bag_train, bag_test, x, y, xtest, models in zip(\n",
    "                                [train_preds_hhb, train_preds_hbo2, train_preds_ca, train_preds_na], \n",
    "                                [test_preds_hhb, test_preds_hbo2, test_preds_ca, test_preds_na], \n",
    "                                [Xtrain1, Xtrain2, Xtrain3, Xtrain4],\n",
    "                                [Ytrain1, Ytrain2, Ytrain3, Ytrain4], \n",
    "                                [Xtest1, Xtest2, Xtest3, Xtest4],\n",
    "                                [models_hhb, models_hbo2, models_ca, models_na]):\n",
    "\n",
    "    for model, names in tqdm(zip(models, ['lgb', 'cat', 'xgb'])):\n",
    "        bag_train[f\"{names}_{i}\"] = cross_val_predict(model, x, y, cv=5)\n",
    "        model.fit(x, y)\n",
    "        bag_test[f\"{names}_{i}\"] = model.predict(xtest)\n",
    "        \n",
    "print(train_preds_hhb.shape, train_preds_hbo2.shape, train_preds_ca.shape, train_preds_na.shape)\n",
    "print(test_preds_hhb.shape, test_preds_hbo2.shape, test_preds_ca.shape, test_preds_na.shape)"
   ]
  },
  {
   "cell_type": "markdown",
   "metadata": {},
   "source": [
    "튜닝한 LightGBM, XGBoost, CatBoost 를 ExtraTreesRegressor 로 스태킹, 최종 결과물 만들기."
   ]
  },
  {
   "cell_type": "code",
   "execution_count": null,
   "metadata": {},
   "outputs": [],
   "source": [
    "from sklearn.ensemble import ExtraTreesRegressor\n",
    "et1_params = {} #I lost my hyperparameter after training... :(\n",
    "et2_params = {'n_estimators': 84, 'max_depth': 6, 'min_samples_split': 15, 'min_samples_leaf': 1}\n",
    "et3_params = {'n_estimators': 67, 'max_depth': 6, 'min_samples_split': 161, 'min_samples_leaf': 1}\n",
    "et4_params = {'n_estimators': 83, 'max_depth': 6, 'min_samples_split': 158, 'min_samples_leaf': 1}\n",
    "\n",
    "\n",
    "et1 = ExtraTreesRegressor(**et1_params)\n",
    "et2 = ExtraTreesRegressor(**et2_params)\n",
    "et3 = ExtraTreesRegressor(**et3_params)\n",
    "et4 = ExtraTreesRegressor(**et4_params)\n",
    "\n",
    "ets_list=[et1, et2, et3, et4]\n",
    "\n",
    "mean_score = 0\n",
    "for model, x, y, xtest in zip(ets_list, \n",
    "                       [train_preds_hhb, train_preds_hbo2, train_preds_ca, train_preds_na], \n",
    "                       [Ytrain1, Ytrain2, Ytrain3, Ytrain4], \n",
    "                       [test_preds_hhb, test_preds_hbo2, test_preds_ca, test_preds_na]):\n",
    "    mean_score = mean_score + model_scoring_cv(model, x, y, n_jobs=1)\n",
    "    model.fit(x, y)\n",
    "    pred = model.predict(xtest)\n",
    "    submission[y.name] = pred\n",
    "    \n",
    "print(f\"Mean CV Score : {mean_score / 4}\")\n",
    "submission.head()"
   ]
  },
  {
   "cell_type": "code",
   "execution_count": 53,
   "metadata": {},
   "outputs": [],
   "source": [
    "submission.to_csv('Final ETS Ensemble CV 0_93309.csv')"
   ]
  }
 ],
 "metadata": {
  "kernelspec": {
   "display_name": "Python 3",
   "language": "python",
   "name": "python3"
  },
  "language_info": {
   "codemirror_mode": {
    "name": "ipython",
    "version": 3
   },
   "file_extension": ".py",
   "mimetype": "text/x-python",
   "name": "python",
   "nbconvert_exporter": "python",
   "pygments_lexer": "ipython3",
   "version": "3.8.8"
  }
 },
 "nbformat": 4,
 "nbformat_minor": 4
}
